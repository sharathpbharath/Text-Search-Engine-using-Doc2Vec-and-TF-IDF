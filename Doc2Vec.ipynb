{
  "cells": [
    {
      "cell_type": "markdown",
      "metadata": {
        "id": "view-in-github",
        "colab_type": "text"
      },
      "source": [
        "<a href=\"https://colab.research.google.com/github/sharathpbharath/Text-Search-Engine-using-Doc2Vec-and-TF-IDF/blob/main/Doc2Vec.ipynb\" target=\"_parent\"><img src=\"https://colab.research.google.com/assets/colab-badge.svg\" alt=\"Open In Colab\"/></a>"
      ]
    },
    {
      "cell_type": "markdown",
      "metadata": {
        "_cell_guid": "ecf2d083-6906-45fa-9c60-df66372fd81f",
        "_uuid": "92204e609cf358a48438edb251a22a0201923254",
        "id": "N5wfIbfbceuI"
      },
      "source": [
        "# How to make a search engine on Movies Description"
      ]
    },
    {
      "cell_type": "markdown",
      "metadata": {
        "id": "8dznC0J6ceuM"
      },
      "source": [
        "In this notebook, you will learn how to :\n",
        "\n",
        "1. [Create a Doc2Vec model that represents words and documents into numerical vectors](#creating)\n",
        "\n",
        "2. [Find words related to other words](#words)\n",
        "3. [Find the document that has the closest meaning to a list of key words like in a search engine](#docs)\n",
        "\n",
        "4. [Create a TF-IDF search engine](#tfidf)\n",
        "\n",
        "\n",
        "\n",
        "<div class=\"alert alert-warning\">\n",
        "To run this notebook, you will need :\n",
        "<ul>\n",
        "<li>to run on **python 3.6.2**</li>\n",
        "<li>to have **gensim** installed. Run '**pip install gensim**' in the python environment you are using for this notebook.</li>\n",
        "<li>to have **langdetect** installed. Run '**pip install langdetect**' in the python environment you are using for this notebook.</li>\n",
        "</ul>\n",
        "\n",
        "</div>\n",
        "\n",
        "We will start by importing what we need and downloading the files with the movies description.\n",
        "\n",
        "The dataset comes from a kaggle dataset : https://www.kaggle.com/rounakbanik/the-movies-dataset/data"
      ]
    },
    {
      "cell_type": "code",
      "source": [
        "pip install langdetect"
      ],
      "metadata": {
        "colab": {
          "base_uri": "https://localhost:8080/"
        },
        "id": "zXhcqWQXhm-H",
        "outputId": "0617e122-1820-440c-8e1d-c8c9b59be7c5"
      },
      "execution_count": 32,
      "outputs": [
        {
          "output_type": "stream",
          "name": "stdout",
          "text": [
            "Requirement already satisfied: langdetect in /usr/local/lib/python3.7/dist-packages (1.0.9)\n",
            "Requirement already satisfied: six in /usr/local/lib/python3.7/dist-packages (from langdetect) (1.15.0)\n"
          ]
        }
      ]
    },
    {
      "cell_type": "code",
      "source": [
        "pip install --upgrade gensim"
      ],
      "metadata": {
        "colab": {
          "base_uri": "https://localhost:8080/"
        },
        "id": "KRJKHPpMdhIK",
        "outputId": "b36127f1-26bb-4854-8c61-2b722a70045d"
      },
      "execution_count": 33,
      "outputs": [
        {
          "output_type": "stream",
          "name": "stdout",
          "text": [
            "Requirement already satisfied: gensim in /usr/local/lib/python3.7/dist-packages (4.2.0)\n",
            "Requirement already satisfied: scipy>=0.18.1 in /usr/local/lib/python3.7/dist-packages (from gensim) (1.4.1)\n",
            "Requirement already satisfied: smart-open>=1.8.1 in /usr/local/lib/python3.7/dist-packages (from gensim) (6.0.0)\n",
            "Requirement already satisfied: numpy>=1.17.0 in /usr/local/lib/python3.7/dist-packages (from gensim) (1.21.6)\n"
          ]
        }
      ]
    },
    {
      "cell_type": "code",
      "execution_count": 34,
      "metadata": {
        "_cell_guid": "631a5f46-877b-41cb-9785-3f87831577b1",
        "_uuid": "461cc3b1bf67fb4984fd6dcf230b595f08e41105",
        "id": "9BtaDRLwceuN"
      },
      "outputs": [],
      "source": [
        "import numpy as np\n",
        "import pandas as pd\n",
        "import matplotlib.pyplot as plt\n",
        "%matplotlib inline\n",
        "\n",
        "from gensim.models import Doc2Vec\n",
        "from collections import namedtuple\n",
        "import gensim.utils\n",
        "from langdetect import detect\n",
        "import re\n",
        "import string"
      ]
    },
    {
      "cell_type": "code",
      "execution_count": 3,
      "metadata": {
        "scrolled": true,
        "id": "h9gBeMTLceuO",
        "outputId": "98a6aa0e-ad2c-4bac-b867-c58cafc3b5bd",
        "colab": {
          "base_uri": "https://localhost:8080/",
          "height": 206
        }
      },
      "outputs": [
        {
          "output_type": "execute_result",
          "data": {
            "text/plain": [
              "                                            overview  \\\n",
              "0  Led by Woody, Andy's toys live happily in his ...   \n",
              "1  When siblings Judy and Peter discover an encha...   \n",
              "2  A family wedding reignites the ancient feud be...   \n",
              "3  Cheated on, mistreated and stepped on, the wom...   \n",
              "4  Just when George Banks has recovered from his ...   \n",
              "\n",
              "                original_title  \n",
              "0                    Toy Story  \n",
              "1                      Jumanji  \n",
              "2             Grumpier Old Men  \n",
              "3            Waiting to Exhale  \n",
              "4  Father of the Bride Part II  "
            ],
            "text/html": [
              "\n",
              "  <div id=\"df-e62446b2-d924-47f1-a01e-b6c84be740d6\">\n",
              "    <div class=\"colab-df-container\">\n",
              "      <div>\n",
              "<style scoped>\n",
              "    .dataframe tbody tr th:only-of-type {\n",
              "        vertical-align: middle;\n",
              "    }\n",
              "\n",
              "    .dataframe tbody tr th {\n",
              "        vertical-align: top;\n",
              "    }\n",
              "\n",
              "    .dataframe thead th {\n",
              "        text-align: right;\n",
              "    }\n",
              "</style>\n",
              "<table border=\"1\" class=\"dataframe\">\n",
              "  <thead>\n",
              "    <tr style=\"text-align: right;\">\n",
              "      <th></th>\n",
              "      <th>overview</th>\n",
              "      <th>original_title</th>\n",
              "    </tr>\n",
              "  </thead>\n",
              "  <tbody>\n",
              "    <tr>\n",
              "      <th>0</th>\n",
              "      <td>Led by Woody, Andy's toys live happily in his ...</td>\n",
              "      <td>Toy Story</td>\n",
              "    </tr>\n",
              "    <tr>\n",
              "      <th>1</th>\n",
              "      <td>When siblings Judy and Peter discover an encha...</td>\n",
              "      <td>Jumanji</td>\n",
              "    </tr>\n",
              "    <tr>\n",
              "      <th>2</th>\n",
              "      <td>A family wedding reignites the ancient feud be...</td>\n",
              "      <td>Grumpier Old Men</td>\n",
              "    </tr>\n",
              "    <tr>\n",
              "      <th>3</th>\n",
              "      <td>Cheated on, mistreated and stepped on, the wom...</td>\n",
              "      <td>Waiting to Exhale</td>\n",
              "    </tr>\n",
              "    <tr>\n",
              "      <th>4</th>\n",
              "      <td>Just when George Banks has recovered from his ...</td>\n",
              "      <td>Father of the Bride Part II</td>\n",
              "    </tr>\n",
              "  </tbody>\n",
              "</table>\n",
              "</div>\n",
              "      <button class=\"colab-df-convert\" onclick=\"convertToInteractive('df-e62446b2-d924-47f1-a01e-b6c84be740d6')\"\n",
              "              title=\"Convert this dataframe to an interactive table.\"\n",
              "              style=\"display:none;\">\n",
              "        \n",
              "  <svg xmlns=\"http://www.w3.org/2000/svg\" height=\"24px\"viewBox=\"0 0 24 24\"\n",
              "       width=\"24px\">\n",
              "    <path d=\"M0 0h24v24H0V0z\" fill=\"none\"/>\n",
              "    <path d=\"M18.56 5.44l.94 2.06.94-2.06 2.06-.94-2.06-.94-.94-2.06-.94 2.06-2.06.94zm-11 1L8.5 8.5l.94-2.06 2.06-.94-2.06-.94L8.5 2.5l-.94 2.06-2.06.94zm10 10l.94 2.06.94-2.06 2.06-.94-2.06-.94-.94-2.06-.94 2.06-2.06.94z\"/><path d=\"M17.41 7.96l-1.37-1.37c-.4-.4-.92-.59-1.43-.59-.52 0-1.04.2-1.43.59L10.3 9.45l-7.72 7.72c-.78.78-.78 2.05 0 2.83L4 21.41c.39.39.9.59 1.41.59.51 0 1.02-.2 1.41-.59l7.78-7.78 2.81-2.81c.8-.78.8-2.07 0-2.86zM5.41 20L4 18.59l7.72-7.72 1.47 1.35L5.41 20z\"/>\n",
              "  </svg>\n",
              "      </button>\n",
              "      \n",
              "  <style>\n",
              "    .colab-df-container {\n",
              "      display:flex;\n",
              "      flex-wrap:wrap;\n",
              "      gap: 12px;\n",
              "    }\n",
              "\n",
              "    .colab-df-convert {\n",
              "      background-color: #E8F0FE;\n",
              "      border: none;\n",
              "      border-radius: 50%;\n",
              "      cursor: pointer;\n",
              "      display: none;\n",
              "      fill: #1967D2;\n",
              "      height: 32px;\n",
              "      padding: 0 0 0 0;\n",
              "      width: 32px;\n",
              "    }\n",
              "\n",
              "    .colab-df-convert:hover {\n",
              "      background-color: #E2EBFA;\n",
              "      box-shadow: 0px 1px 2px rgba(60, 64, 67, 0.3), 0px 1px 3px 1px rgba(60, 64, 67, 0.15);\n",
              "      fill: #174EA6;\n",
              "    }\n",
              "\n",
              "    [theme=dark] .colab-df-convert {\n",
              "      background-color: #3B4455;\n",
              "      fill: #D2E3FC;\n",
              "    }\n",
              "\n",
              "    [theme=dark] .colab-df-convert:hover {\n",
              "      background-color: #434B5C;\n",
              "      box-shadow: 0px 1px 3px 1px rgba(0, 0, 0, 0.15);\n",
              "      filter: drop-shadow(0px 1px 2px rgba(0, 0, 0, 0.3));\n",
              "      fill: #FFFFFF;\n",
              "    }\n",
              "  </style>\n",
              "\n",
              "      <script>\n",
              "        const buttonEl =\n",
              "          document.querySelector('#df-e62446b2-d924-47f1-a01e-b6c84be740d6 button.colab-df-convert');\n",
              "        buttonEl.style.display =\n",
              "          google.colab.kernel.accessAllowed ? 'block' : 'none';\n",
              "\n",
              "        async function convertToInteractive(key) {\n",
              "          const element = document.querySelector('#df-e62446b2-d924-47f1-a01e-b6c84be740d6');\n",
              "          const dataTable =\n",
              "            await google.colab.kernel.invokeFunction('convertToInteractive',\n",
              "                                                     [key], {});\n",
              "          if (!dataTable) return;\n",
              "\n",
              "          const docLinkHtml = 'Like what you see? Visit the ' +\n",
              "            '<a target=\"_blank\" href=https://colab.research.google.com/notebooks/data_table.ipynb>data table notebook</a>'\n",
              "            + ' to learn more about interactive tables.';\n",
              "          element.innerHTML = '';\n",
              "          dataTable['output_type'] = 'display_data';\n",
              "          await google.colab.output.renderOutput(dataTable, element);\n",
              "          const docLink = document.createElement('div');\n",
              "          docLink.innerHTML = docLinkHtml;\n",
              "          element.appendChild(docLink);\n",
              "        }\n",
              "      </script>\n",
              "    </div>\n",
              "  </div>\n",
              "  "
            ]
          },
          "metadata": {},
          "execution_count": 3
        }
      ],
      "source": [
        "imdbdata=pd.read_csv('movies.csv')\n",
        "data = np.array(imdbdata.overview)\n",
        "titles=np.array(imdbdata.original_title)\n",
        "\n",
        "imdbdata.head()"
      ]
    },
    {
      "cell_type": "markdown",
      "metadata": {
        "_cell_guid": "4048fc6a-45ae-45c0-9bcd-ec03c052cfb0",
        "_uuid": "eb0ae6b4fe1db43931c21ac366ae3aa1f7f721fb",
        "collapsed": true,
        "id": "7bhVfPM2ceuP"
      },
      "source": [
        "## Text preprocessing\n",
        "\n",
        "In order to build the doc2vec model we need to clean the data that we have. We will remove documents that are not strings, that are too short and that are not written in english.\n",
        "Then, we will remove punctuation, and lowercase every word.\n",
        "We will build the list **alldocs** that contains every documents cleaned."
      ]
    },
    {
      "cell_type": "code",
      "execution_count": 4,
      "metadata": {
        "_cell_guid": "ca3b00dd-71ff-4e7e-a149-d341419f796c",
        "_uuid": "9e70b2660d580eb945a6e0ac1448f07074d0aaf7",
        "collapsed": true,
        "id": "lWcCWXZkceuQ"
      },
      "outputs": [],
      "source": [
        "SentimentDocument = namedtuple('SentimentDocument', 'words tags title original_number')\n",
        "n=0\n",
        "alldocs = []  # Will hold all docs in original order\n",
        "\n",
        "regex = re.compile('[%s]' % re.escape(string.punctuation)) #to remove punctuation\n",
        "\n",
        "for line_no, line in enumerate(data):\n",
        "    if (type(line)==str):\n",
        "        if (len(line)>150):\n",
        "            if (detect(line) == 'en') :\n",
        "                line = regex.sub('', line)\n",
        "                tokens = gensim.utils.to_unicode(line).lower().split()\n",
        "                words = tokens[0:]\n",
        "                tags = [n]\n",
        "                title = titles[line_no]\n",
        "                alldocs.append(SentimentDocument(words, tags, title, line_no))\n",
        "                n=n+1    "
      ]
    },
    {
      "cell_type": "markdown",
      "metadata": {
        "id": "p_iXvoDyceuQ"
      },
      "source": [
        "Some insights on the dataset :"
      ]
    },
    {
      "cell_type": "code",
      "execution_count": 5,
      "metadata": {
        "id": "Wr5IdNfmceuR",
        "outputId": "478758e4-8e59-4c2c-d5e8-075adde4db09",
        "colab": {
          "base_uri": "https://localhost:8080/",
          "height": 440
        }
      },
      "outputs": [
        {
          "output_type": "stream",
          "name": "stdout",
          "text": [
            "Number of Documents :  34178\n",
            "Mean length of documents :  65.90962022353561\n"
          ]
        },
        {
          "output_type": "execute_result",
          "data": {
            "text/plain": [
              "Text(0, 0.5, 'Length of the description')"
            ]
          },
          "metadata": {},
          "execution_count": 5
        },
        {
          "output_type": "display_data",
          "data": {
            "text/plain": [
              "<Figure size 1440x432 with 1 Axes>"
            ],
            "image/png": "[encoded data removed]"
          },
          "metadata": {
            "needs_background": "light"
          }
        }
      ],
      "source": [
        "l = []\n",
        "for doc in alldocs:\n",
        "    l.append(len(doc.words))\n",
        "\n",
        "print('Number of Documents : ', len(alldocs))\n",
        "print('Mean length of documents : ', np.mean(l))\n",
        "\n",
        "plt.figure (figsize=(20, 6))\n",
        "plt.bar(range(0, len(l)), l)\n",
        "plt.xlabel('Documents')\n",
        "plt.ylabel('Length of the description')"
      ]
    },
    {
      "cell_type": "code",
      "execution_count": 6,
      "metadata": {
        "id": "hGPK5nGCceuS",
        "outputId": "d5e1ff81-df2a-4bdf-f438-d38cb8ce5aa4",
        "colab": {
          "base_uri": "https://localhost:8080/"
        }
      },
      "outputs": [
        {
          "output_type": "stream",
          "name": "stdout",
          "text": [
            "SentimentDocument(words=['led', 'by', 'woody', 'andys', 'toys', 'live', 'happily', 'in', 'his', 'room', 'until', 'andys', 'birthday', 'brings', 'buzz', 'lightyear', 'onto', 'the', 'scene', 'afraid', 'of', 'losing', 'his', 'place', 'in', 'andys', 'heart', 'woody', 'plots', 'against', 'buzz', 'but', 'when', 'circumstances', 'separate', 'buzz', 'and', 'woody', 'from', 'their', 'owner', 'the', 'duo', 'eventually', 'learns', 'to', 'put', 'aside', 'their', 'differences'], tags=[0], title='Toy Story', original_number=0) \n",
            "\n",
            "Led by Woody, Andy's toys live happily in his room until Andy's birthday brings Buzz Lightyear onto the scene. Afraid of losing his place in Andy's heart, Woody plots against Buzz. But when circumstances separate Buzz and Woody from their owner, the duo eventually learns to put aside their differences.\n"
          ]
        }
      ],
      "source": [
        "# An example of how the list alldocs is build\n",
        "\n",
        "index = 0\n",
        "doc = alldocs[index]\n",
        "print(doc, '\\n')\n",
        "print(data[doc.original_number])"
      ]
    },
    {
      "cell_type": "markdown",
      "metadata": {
        "id": "Mar8FIp2ceuT"
      },
      "source": [
        "## <a id=\"creating\"></a> Creating and training the Doc2Vec model\n",
        "\n",
        "We create the Distributed Memory model with a size of 300 ( that means that the vectors will be of size 300). The window size is 10. We do not take in account words that are seen less than 10 times in the entire corpus with the variable *min_count*. Setting the variable *dbow_words* to 1 means that we are also training to represents words with numerical vectors.\n",
        "\n",
        "We then train our model over 100 epochs with a lerning rate of 0.01.\n",
        "\n",
        "Full documentation can be found here :\n",
        "<li> gensim : https://radimrehurek.com/gensim/ </li>\n",
        "<li> Doc2Vec : https://radimrehurek.com/gensim/models/doc2vec.html </li>\n",
        "<li> A great article introducing the concepts behind Doc2Vec : https://medium.com/scaleabout/a-gentle-introduction-to-doc2vec-db3e8c0cce5e </li>\n",
        "<li> Detailed scientific paper : https://cs.stanford.edu/~quocle/paragraph_vector.pdf </li>\n"
      ]
    },
    {
      "cell_type": "code",
      "execution_count": 9,
      "metadata": {
        "_cell_guid": "3fc47183-c884-4bef-9383-21231d52430c",
        "_uuid": "f8bd956e9ff7bc99f388c3ded7a927c0b05ada63",
        "collapsed": true,
        "id": "VXgTyVAbceuT"
      },
      "outputs": [],
      "source": [
        "# PV-DM\n",
        "model = Doc2Vec(dm=1, vector_size=300,window=10,hs=0,min_count=10,dbow_words=1,sample=1e-5)\n",
        "\n",
        "# build the vocabulary \n",
        "model.build_vocab(alldocs)"
      ]
    },
    {
      "cell_type": "code",
      "execution_count": 10,
      "metadata": {
        "_cell_guid": "8e62a5d0-741d-4644-9f38-3ae01088d40e",
        "_uuid": "72ff0acf1b30b343245108858206ab867b8aaf52",
        "id": "zp0Jtr5IceuT"
      },
      "outputs": [],
      "source": [
        "model.train(alldocs, total_examples=model.corpus_count, epochs=100, start_alpha=0.01, end_alpha=0.01)"
      ]
    },
    {
      "cell_type": "markdown",
      "metadata": {
        "id": "y7i5NaQDceuU"
      },
      "source": [
        "We can save and load models with the lines below."
      ]
    },
    {
      "cell_type": "code",
      "execution_count": 11,
      "metadata": {
        "_cell_guid": "4f29a0ca-7d95-45e2-b30a-08e80a849d27",
        "_uuid": "c13199e4db1ef943421c059dc8c58ad4c6244e31",
        "collapsed": true,
        "id": "GvQRB68xceuU"
      },
      "outputs": [],
      "source": [
        "model.save(\"model\")\n",
        "#Doc2Vec.load(\"model\")"
      ]
    },
    {
      "cell_type": "markdown",
      "metadata": {
        "_cell_guid": "5c7a4693-66e6-4213-b940-b3f5078ee094",
        "_uuid": "80fe102b1b5cad2b555c67b495c1e8cd6fb76fb9",
        "id": "Z9AgNZu-ceuU"
      },
      "source": [
        "## <a id=\"words\"></a>Evaluating words embedding\n",
        "\n",
        "We will evaluate our model with some examples by showing the closest words to the words love, war and space.\n",
        "\n",
        "As the process of training a neural network does not always come to the same model, if the results do not make sense, you might consider creating the model and training it again.\n",
        "\n"
      ]
    },
    {
      "cell_type": "code",
      "execution_count": 17,
      "metadata": {
        "id": "PgFVUHJPceuV",
        "outputId": "10584825-f1c9-43bb-c4a7-fcc599d89b39",
        "colab": {
          "base_uri": "https://localhost:8080/"
        }
      },
      "outputs": [
        {
          "output_type": "execute_result",
          "data": {
            "text/plain": [
              "[('payment', 0.7696744203567505),\n",
              " ('investigator', 0.7660149931907654),\n",
              " ('credit', 0.7634869813919067),\n",
              " ('collect', 0.7625038623809814),\n",
              " ('pension', 0.7611268758773804),\n",
              " ('money', 0.7599351406097412),\n",
              " ('salary', 0.7578275799751282),\n",
              " ('dollar', 0.7523651123046875),\n",
              " ('investment', 0.7523491978645325),\n",
              " ('irs', 0.7520989179611206)]"
            ]
          },
          "metadata": {},
          "execution_count": 17
        }
      ],
      "source": [
        "model.wv.most_similar_cosmul(positive = [\"insurance\"])"
      ]
    },
    {
      "cell_type": "code",
      "execution_count": 14,
      "metadata": {
        "id": "KRL4B0ZrceuV",
        "outputId": "92db3a2c-9dd9-4cfe-b624-701c7318e2ac",
        "colab": {
          "base_uri": "https://localhost:8080/"
        }
      },
      "outputs": [
        {
          "output_type": "execute_result",
          "data": {
            "text/plain": [
              "[('ii', 0.903796911239624),\n",
              " ('civil', 0.8522363901138306),\n",
              " ('trenches', 0.8270581364631653),\n",
              " ('ww', 0.8096345067024231),\n",
              " ('frontline', 0.807906985282898),\n",
              " ('vietnam', 0.8078028559684753),\n",
              " ('waged', 0.8044319748878479),\n",
              " ('soldier', 0.7970156073570251),\n",
              " ('soldiers', 0.7937844395637512),\n",
              " ('gis', 0.7934879660606384)]"
            ]
          },
          "metadata": {},
          "execution_count": 14
        }
      ],
      "source": [
        "model.wv.most_similar_cosmul(positive = [\"war\"])"
      ]
    },
    {
      "cell_type": "code",
      "execution_count": 18,
      "metadata": {
        "id": "RLu9WBoJceuV",
        "outputId": "d2e69b88-38ea-46de-ccfc-d344752fbb73",
        "colab": {
          "base_uri": "https://localhost:8080/"
        }
      },
      "outputs": [
        {
          "output_type": "execute_result",
          "data": {
            "text/plain": [
              "[('astronaut', 0.8842911720275879),\n",
              " ('planet', 0.8834406137466431),\n",
              " ('astronauts', 0.8744741678237915),\n",
              " ('outer', 0.8742848634719849),\n",
              " ('asteroid', 0.8724781274795532),\n",
              " ('mars', 0.8710834383964539),\n",
              " ('spaceship', 0.8672927021980286),\n",
              " ('nasa', 0.8650972843170166),\n",
              " ('earth', 0.863030195236206),\n",
              " ('spacecraft', 0.8559842109680176)]"
            ]
          },
          "metadata": {},
          "execution_count": 18
        }
      ],
      "source": [
        "model.wv.most_similar_cosmul(positive = [\"space\"])"
      ]
    },
    {
      "cell_type": "markdown",
      "metadata": {
        "id": "JHH1UxbYceuV"
      },
      "source": [
        "The cell below show that the relationship of gender is understood by the model as we almost have the equation ** man - woman = king - queen**"
      ]
    },
    {
      "cell_type": "code",
      "execution_count": 19,
      "metadata": {
        "_cell_guid": "95ad0282-82d0-405c-a3cf-c89181ede396",
        "_uuid": "8eeef245456e23f217b986b52051f360eca2b546",
        "id": "SfFPb7JoceuW",
        "outputId": "0efe0db0-d604-457e-ce78-7663789cb90b",
        "colab": {
          "base_uri": "https://localhost:8080/"
        }
      },
      "outputs": [
        {
          "output_type": "execute_result",
          "data": {
            "text/plain": [
              "[('queen', 0.8981130123138428),\n",
              " ('princess', 0.8958332538604736),\n",
              " ('throne', 0.8737176656723022),\n",
              " ('dartagnan', 0.8433177471160889),\n",
              " ('crowned', 0.8413122892379761),\n",
              " ('royal', 0.827347457408905),\n",
              " ('musketeers', 0.8173230886459351),\n",
              " ('empress', 0.8148427605628967),\n",
              " ('moors', 0.8088144659996033),\n",
              " ('athos', 0.8042902946472168)]"
            ]
          },
          "metadata": {},
          "execution_count": 19
        }
      ],
      "source": [
        "model.wv.most_similar_cosmul(negative = [\"man\"], positive = [\"king\",\"woman\"])"
      ]
    },
    {
      "cell_type": "markdown",
      "metadata": {
        "id": "FreJI7rHceuW"
      },
      "source": [
        "The results on the word embeddings are satisfying as we have coherent outputs.\n",
        "\n",
        "## <a id=\"docs\"></a>Evaluating documents embedding\n",
        "\n",
        "We will evaluate our model of documents embedding with some examples by showing the closest documents to key words ( here called tokens). We expect the documents to have similar meanings than the key words. In this way, the model act as a search engine."
      ]
    },
    {
      "cell_type": "code",
      "execution_count": 36,
      "metadata": {
        "id": "ShOFXbktceuW",
        "outputId": "e2d13a91-5ffe-4e9e-c5f6-5e76a36a2d5e",
        "colab": {
          "base_uri": "https://localhost:8080/"
        }
      },
      "outputs": [
        {
          "output_type": "stream",
          "name": "stdout",
          "text": [
            "Document :  Spitz is the German-Jewish coach of the football team Macedonia during World War II. Under his leadership, the team fights to become the champion of Bulgaria's National Football League \n",
            "\n",
            "Titre :  Трето полувреме\n",
            "Distance :  0.8786457777023315\n"
          ]
        },
        {
          "output_type": "stream",
          "name": "stderr",
          "text": [
            "/usr/local/lib/python3.7/dist-packages/ipykernel_launcher.py:6: DeprecationWarning: Call to deprecated `docvecs` (The `docvecs` property has been renamed `dv`.).\n",
            "  \n"
          ]
        }
      ],
      "source": [
        "# Closest document to the word \"war\"\n",
        "\n",
        "tokens = \"war\"\n",
        "\n",
        "new_vector = model.infer_vector(tokens.split() ,alpha=0.001 )\n",
        "tagsim = model.docvecs.most_similar([new_vector])[0]\n",
        "\n",
        "docsim = alldocs[tagsim[0] ]\n",
        "\n",
        "print(\"Document : \", data[docsim.original_number], \"\\n\")\n",
        "print(\"Titre : \", docsim.title)\n",
        "print(\"Distance : \", tagsim[1])"
      ]
    },
    {
      "cell_type": "markdown",
      "metadata": {
        "id": "qZFqKJmvceuW"
      },
      "source": [
        "We show the closest document to the key words, the farest document and a document in the middle."
      ]
    },
    {
      "cell_type": "code",
      "execution_count": 38,
      "metadata": {
        "_cell_guid": "1b8e22de-6612-486e-99ef-058b70d35e1b",
        "_uuid": "ea4c4be94897fc5049409cc54ced7b87994ff16b",
        "id": "iPefWmO0ceuX",
        "outputId": "b0fe108d-679b-4499-b0e1-51cfb4b6591a",
        "colab": {
          "base_uri": "https://localhost:8080/",
          "height": 269
        }
      },
      "outputs": [
        {
          "output_type": "stream",
          "name": "stderr",
          "text": [
            "/usr/local/lib/python3.7/dist-packages/ipykernel_launcher.py:6: DeprecationWarning: Call to deprecated `docvecs` (The `docvecs` property has been renamed `dv`.).\n",
            "  \n"
          ]
        },
        {
          "output_type": "error",
          "ename": "AttributeError",
          "evalue": "ignored",
          "traceback": [
            "\u001b[0;31m---------------------------------------------------------------------------\u001b[0m",
            "\u001b[0;31mAttributeError\u001b[0m                            Traceback (most recent call last)",
            "\u001b[0;32m<ipython-input-38-04d2bb36cc2f>\u001b[0m in \u001b[0;36m<module>\u001b[0;34m()\u001b[0m\n\u001b[1;32m      4\u001b[0m \u001b[0;34m\u001b[0m\u001b[0m\n\u001b[1;32m      5\u001b[0m \u001b[0mnew_vector\u001b[0m \u001b[0;34m=\u001b[0m \u001b[0mmodel\u001b[0m\u001b[0;34m.\u001b[0m\u001b[0minfer_vector\u001b[0m\u001b[0;34m(\u001b[0m\u001b[0mtokens\u001b[0m\u001b[0;34m.\u001b[0m\u001b[0msplit\u001b[0m\u001b[0;34m(\u001b[0m\u001b[0;34m)\u001b[0m \u001b[0;34m,\u001b[0m\u001b[0malpha\u001b[0m\u001b[0;34m=\u001b[0m\u001b[0;36m0.001\u001b[0m \u001b[0;34m)\u001b[0m\u001b[0;34m\u001b[0m\u001b[0;34m\u001b[0m\u001b[0m\n\u001b[0;32m----> 6\u001b[0;31m \u001b[0msims\u001b[0m \u001b[0;34m=\u001b[0m \u001b[0mmodel\u001b[0m\u001b[0;34m.\u001b[0m\u001b[0mdocvecs\u001b[0m\u001b[0;34m.\u001b[0m\u001b[0mmost_similar\u001b[0m\u001b[0;34m(\u001b[0m\u001b[0;34m[\u001b[0m\u001b[0mnew_vector\u001b[0m\u001b[0;34m]\u001b[0m\u001b[0;34m,\u001b[0m \u001b[0mtopn\u001b[0m\u001b[0;34m=\u001b[0m\u001b[0mmodel\u001b[0m\u001b[0;34m.\u001b[0m\u001b[0mdocvecs\u001b[0m\u001b[0;34m.\u001b[0m\u001b[0mcount\u001b[0m\u001b[0;34m)\u001b[0m \u001b[0;31m# get *all* similar documents\u001b[0m\u001b[0;34m\u001b[0m\u001b[0;34m\u001b[0m\u001b[0m\n\u001b[0m\u001b[1;32m      7\u001b[0m \u001b[0;34m\u001b[0m\u001b[0m\n\u001b[1;32m      8\u001b[0m \u001b[0mprint\u001b[0m\u001b[0;34m(\u001b[0m\u001b[0;34m\"Most : \"\u001b[0m \u001b[0;34m,\u001b[0m \u001b[0mdata\u001b[0m\u001b[0;34m[\u001b[0m\u001b[0malldocs\u001b[0m\u001b[0;34m[\u001b[0m\u001b[0msims\u001b[0m\u001b[0;34m[\u001b[0m\u001b[0;36m0\u001b[0m\u001b[0;34m]\u001b[0m\u001b[0;34m[\u001b[0m\u001b[0;36m0\u001b[0m\u001b[0;34m]\u001b[0m\u001b[0;34m]\u001b[0m\u001b[0;34m.\u001b[0m\u001b[0moriginal_number\u001b[0m\u001b[0;34m]\u001b[0m\u001b[0;34m,\u001b[0m \u001b[0;34m\"\\n\"\u001b[0m\u001b[0;34m)\u001b[0m\u001b[0;34m\u001b[0m\u001b[0;34m\u001b[0m\u001b[0m\n",
            "\u001b[0;31mAttributeError\u001b[0m: 'KeyedVectors' object has no attribute 'count'"
          ]
        }
      ],
      "source": [
        "# Closest document to the word \"love\"\n",
        "\n",
        "tokens = \"love\"\n",
        "\n",
        "new_vector = model.infer_vector(tokens.split() ,alpha=0.001 )\n",
        "sims = model.docvecs.most_similar([new_vector], topn=model.docvecs.count) # get *all* similar documents\n",
        "\n",
        "print(\"Most : \" , data[alldocs[sims[0][0]].original_number], \"\\n\") \n",
        "print(\"Median : \" , data[alldocs[sims[17000][0]].original_number], \"\\n\")\n",
        "print(\"Least : \" , data[alldocs[sims[-1][0]].original_number])"
      ]
    },
    {
      "cell_type": "markdown",
      "metadata": {
        "id": "o07gPmKkceuX"
      },
      "source": [
        "In this example, in terms of reviewer tone, movie genre, etc... the MOST cosine-similar documents seem more like the key words than the MEDIAN or LEAST"
      ]
    },
    {
      "cell_type": "code",
      "execution_count": 39,
      "metadata": {
        "id": "Sz7wN4M4ceuX",
        "outputId": "5fcb38a0-a17a-4977-c2e6-0396eb76b589",
        "colab": {
          "base_uri": "https://localhost:8080/",
          "height": 269
        }
      },
      "outputs": [
        {
          "output_type": "stream",
          "name": "stderr",
          "text": [
            "/usr/local/lib/python3.7/dist-packages/ipykernel_launcher.py:1: DeprecationWarning: Call to deprecated `docvecs` (The `docvecs` property has been renamed `dv`.).\n",
            "  \"\"\"Entry point for launching an IPython kernel.\n"
          ]
        },
        {
          "output_type": "error",
          "ename": "AttributeError",
          "evalue": "ignored",
          "traceback": [
            "\u001b[0;31m---------------------------------------------------------------------------\u001b[0m",
            "\u001b[0;31mAttributeError\u001b[0m                            Traceback (most recent call last)",
            "\u001b[0;32m<ipython-input-39-424684da6690>\u001b[0m in \u001b[0;36m<module>\u001b[0;34m()\u001b[0m\n\u001b[0;32m----> 1\u001b[0;31m \u001b[0mdoc\u001b[0m \u001b[0;34m=\u001b[0m \u001b[0mnp\u001b[0m\u001b[0;34m.\u001b[0m\u001b[0mrandom\u001b[0m\u001b[0;34m.\u001b[0m\u001b[0mrandint\u001b[0m\u001b[0;34m(\u001b[0m\u001b[0mmodel\u001b[0m\u001b[0;34m.\u001b[0m\u001b[0mdocvecs\u001b[0m\u001b[0;34m.\u001b[0m\u001b[0mcount\u001b[0m\u001b[0;34m)\u001b[0m\u001b[0;34m\u001b[0m\u001b[0;34m\u001b[0m\u001b[0m\n\u001b[0m\u001b[1;32m      2\u001b[0m \u001b[0;34m\u001b[0m\u001b[0m\n\u001b[1;32m      3\u001b[0m \u001b[0msims\u001b[0m \u001b[0;34m=\u001b[0m \u001b[0mmodel\u001b[0m\u001b[0;34m.\u001b[0m\u001b[0mdocvecs\u001b[0m\u001b[0;34m.\u001b[0m\u001b[0mmost_similar\u001b[0m\u001b[0;34m(\u001b[0m\u001b[0mdoc\u001b[0m\u001b[0;34m,\u001b[0m \u001b[0mtopn\u001b[0m\u001b[0;34m=\u001b[0m\u001b[0mmodel\u001b[0m\u001b[0;34m.\u001b[0m\u001b[0mdocvecs\u001b[0m\u001b[0;34m.\u001b[0m\u001b[0mcount\u001b[0m\u001b[0;34m)\u001b[0m \u001b[0;31m# get *all* similar documents\u001b[0m\u001b[0;34m\u001b[0m\u001b[0;34m\u001b[0m\u001b[0m\n\u001b[1;32m      4\u001b[0m \u001b[0;34m\u001b[0m\u001b[0m\n\u001b[1;32m      5\u001b[0m \u001b[0mprint\u001b[0m\u001b[0;34m(\u001b[0m\u001b[0;34m\"Target : \"\u001b[0m\u001b[0;34m,\u001b[0m \u001b[0mdata\u001b[0m\u001b[0;34m[\u001b[0m\u001b[0malldocs\u001b[0m\u001b[0;34m[\u001b[0m\u001b[0mdoc\u001b[0m\u001b[0;34m]\u001b[0m \u001b[0;34m.\u001b[0m\u001b[0moriginal_number\u001b[0m\u001b[0;34m]\u001b[0m\u001b[0;34m,\u001b[0m \u001b[0;34m\"\\n\"\u001b[0m \u001b[0;34m)\u001b[0m\u001b[0;34m\u001b[0m\u001b[0;34m\u001b[0m\u001b[0m\n",
            "\u001b[0;31mAttributeError\u001b[0m: 'KeyedVectors' object has no attribute 'count'"
          ]
        }
      ],
      "source": [
        "doc = np.random.randint(model.docvecs.count)\n",
        "\n",
        "sims = model.docvecs.most_similar(doc, topn=model.docvecs.count) # get *all* similar documents\n",
        "\n",
        "print(\"Target : \", data[alldocs[doc] .original_number], \"\\n\" )\n",
        "print(\"Most : \" , data[alldocs[sims[0][0]].original_number], \"\\n\")\n",
        "print(\"Median : \" , data[alldocs[sims[34000][0]].original_number], \"\\n\")\n",
        "print(\"Least : \" , data[alldocs[sims[-1][0]].original_number])\n"
      ]
    },
    {
      "cell_type": "markdown",
      "metadata": {
        "id": "MIRkZBQGceuX"
      },
      "source": [
        "Usually the MOST cosine-similar documents usually seem more like the TARGET than the MEDIAN or LEAST"
      ]
    },
    {
      "cell_type": "markdown",
      "metadata": {
        "_cell_guid": "d6666cff-2ff4-4bc7-a50d-7f61cd5e57b5",
        "_uuid": "2bc413a5e42337f9f33c58d9aa51ba35e6bb8cef",
        "id": "leOjqSKIceuX"
      },
      "source": [
        " ## Pre-trained word embeddings\n",
        " \n",
        " It is possible to use pre-trained word embeddings for your model. Indeed, there is a word2vec model available here (https://code.google.com/archive/p/word2vec). This model is trained by google but might not be well suited for the problem you want to solve. "
      ]
    },
    {
      "cell_type": "code",
      "execution_count": 40,
      "metadata": {
        "_cell_guid": "f86b9e2f-0360-4a61-b353-9cc7e0471a60",
        "_uuid": "393e48277e0aaa610cad6ebc6a54886c0b7ae6cd",
        "collapsed": true,
        "id": "1zGjeojtceuY",
        "colab": {
          "base_uri": "https://localhost:8080/",
          "height": 200
        },
        "outputId": "38dbc147-eae0-4a27-8bab-ce2ce1777276"
      },
      "outputs": [
        {
          "output_type": "error",
          "ename": "AttributeError",
          "evalue": "ignored",
          "traceback": [
            "\u001b[0;31m---------------------------------------------------------------------------\u001b[0m",
            "\u001b[0;31mAttributeError\u001b[0m                            Traceback (most recent call last)",
            "\u001b[0;32m<ipython-input-40-280ef0deda5d>\u001b[0m in \u001b[0;36m<module>\u001b[0;34m()\u001b[0m\n\u001b[1;32m      6\u001b[0m \u001b[0;34m\u001b[0m\u001b[0m\n\u001b[1;32m      7\u001b[0m \u001b[0;31m# use pre-trained word vectors from google\u001b[0m\u001b[0;34m\u001b[0m\u001b[0;34m\u001b[0m\u001b[0;34m\u001b[0m\u001b[0m\n\u001b[0;32m----> 8\u001b[0;31m \u001b[0mmodel_pre_trained\u001b[0m\u001b[0;34m.\u001b[0m\u001b[0mintersect_word2vec_format\u001b[0m\u001b[0;34m(\u001b[0m\u001b[0;34m'C:\\zip\\GoogleNews-vectors-negative300.bin'\u001b[0m\u001b[0;34m,\u001b[0m \u001b[0mbinary\u001b[0m\u001b[0;34m=\u001b[0m\u001b[0;32mTrue\u001b[0m\u001b[0;34m)\u001b[0m\u001b[0;34m\u001b[0m\u001b[0;34m\u001b[0m\u001b[0m\n\u001b[0m",
            "\u001b[0;31mAttributeError\u001b[0m: 'Doc2Vec' object has no attribute 'intersect_word2vec_format'"
          ]
        }
      ],
      "source": [
        "# PV-DBOW (with negative sampling)\n",
        "model_pre_trained = Doc2Vec(dm=0,vector_size=300, window=15,hs=0,negative=5,min_count=10,dbow_words=1,sample=1e-5)\n",
        "\n",
        "# build the vocabulary \n",
        "model_pre_trained.build_vocab(alldocs)\n",
        "\n",
        "# use pre-trained word vectors from google\n",
        "model_pre_trained.intersect_word2vec_format('C:\\zip\\GoogleNews-vectors-negative300.bin', binary=True)"
      ]
    },
    {
      "cell_type": "code",
      "execution_count": 41,
      "metadata": {
        "_cell_guid": "36e7f4c1-3eb1-49cf-9389-d653042222ff",
        "_uuid": "3ffbedd7915d2e26db833ed4ea133c57e73fb747",
        "scrolled": false,
        "id": "9M2XuaHyceuY",
        "colab": {
          "base_uri": "https://localhost:8080/",
          "height": 311
        },
        "outputId": "1b2ccf3a-3459-40f5-d08c-775718d23c8c"
      },
      "outputs": [
        {
          "output_type": "error",
          "ename": "KeyboardInterrupt",
          "evalue": "ignored",
          "traceback": [
            "\u001b[0;31m---------------------------------------------------------------------------\u001b[0m",
            "\u001b[0;31mKeyboardInterrupt\u001b[0m                         Traceback (most recent call last)",
            "\u001b[0;32m<ipython-input-41-8e4acb2fd79c>\u001b[0m in \u001b[0;36m<module>\u001b[0;34m()\u001b[0m\n\u001b[0;32m----> 1\u001b[0;31m \u001b[0mmodel_pre_trained\u001b[0m\u001b[0;34m.\u001b[0m\u001b[0mtrain\u001b[0m\u001b[0;34m(\u001b[0m\u001b[0malldocs\u001b[0m\u001b[0;34m,\u001b[0m \u001b[0mtotal_examples\u001b[0m\u001b[0;34m=\u001b[0m\u001b[0mmodel\u001b[0m\u001b[0;34m.\u001b[0m\u001b[0mcorpus_count\u001b[0m\u001b[0;34m,\u001b[0m \u001b[0mepochs\u001b[0m\u001b[0;34m=\u001b[0m\u001b[0;36m100\u001b[0m\u001b[0;34m)\u001b[0m\u001b[0;34m\u001b[0m\u001b[0;34m\u001b[0m\u001b[0m\n\u001b[0m",
            "\u001b[0;32m/usr/local/lib/python3.7/dist-packages/gensim/models/doc2vec.py\u001b[0m in \u001b[0;36mtrain\u001b[0;34m(self, corpus_iterable, corpus_file, total_examples, total_words, epochs, start_alpha, end_alpha, word_count, queue_factor, report_delay, callbacks, **kwargs)\u001b[0m\n\u001b[1;32m    518\u001b[0m             \u001b[0mtotal_examples\u001b[0m\u001b[0;34m=\u001b[0m\u001b[0mtotal_examples\u001b[0m\u001b[0;34m,\u001b[0m \u001b[0mtotal_words\u001b[0m\u001b[0;34m=\u001b[0m\u001b[0mtotal_words\u001b[0m\u001b[0;34m,\u001b[0m\u001b[0;34m\u001b[0m\u001b[0;34m\u001b[0m\u001b[0m\n\u001b[1;32m    519\u001b[0m             \u001b[0mepochs\u001b[0m\u001b[0;34m=\u001b[0m\u001b[0mepochs\u001b[0m\u001b[0;34m,\u001b[0m \u001b[0mstart_alpha\u001b[0m\u001b[0;34m=\u001b[0m\u001b[0mstart_alpha\u001b[0m\u001b[0;34m,\u001b[0m \u001b[0mend_alpha\u001b[0m\u001b[0;34m=\u001b[0m\u001b[0mend_alpha\u001b[0m\u001b[0;34m,\u001b[0m \u001b[0mword_count\u001b[0m\u001b[0;34m=\u001b[0m\u001b[0mword_count\u001b[0m\u001b[0;34m,\u001b[0m\u001b[0;34m\u001b[0m\u001b[0;34m\u001b[0m\u001b[0m\n\u001b[0;32m--> 520\u001b[0;31m             queue_factor=queue_factor, report_delay=report_delay, callbacks=callbacks, **kwargs)\n\u001b[0m\u001b[1;32m    521\u001b[0m \u001b[0;34m\u001b[0m\u001b[0m\n\u001b[1;32m    522\u001b[0m     \u001b[0;34m@\u001b[0m\u001b[0mclassmethod\u001b[0m\u001b[0;34m\u001b[0m\u001b[0;34m\u001b[0m\u001b[0m\n",
            "\u001b[0;32m/usr/local/lib/python3.7/dist-packages/gensim/models/word2vec.py\u001b[0m in \u001b[0;36mtrain\u001b[0;34m(self, corpus_iterable, corpus_file, total_examples, total_words, epochs, start_alpha, end_alpha, word_count, queue_factor, report_delay, compute_loss, callbacks, **kwargs)\u001b[0m\n\u001b[1;32m   1071\u001b[0m                     \u001b[0mcorpus_iterable\u001b[0m\u001b[0;34m,\u001b[0m \u001b[0mcur_epoch\u001b[0m\u001b[0;34m=\u001b[0m\u001b[0mcur_epoch\u001b[0m\u001b[0;34m,\u001b[0m \u001b[0mtotal_examples\u001b[0m\u001b[0;34m=\u001b[0m\u001b[0mtotal_examples\u001b[0m\u001b[0;34m,\u001b[0m\u001b[0;34m\u001b[0m\u001b[0;34m\u001b[0m\u001b[0m\n\u001b[1;32m   1072\u001b[0m                     \u001b[0mtotal_words\u001b[0m\u001b[0;34m=\u001b[0m\u001b[0mtotal_words\u001b[0m\u001b[0;34m,\u001b[0m \u001b[0mqueue_factor\u001b[0m\u001b[0;34m=\u001b[0m\u001b[0mqueue_factor\u001b[0m\u001b[0;34m,\u001b[0m \u001b[0mreport_delay\u001b[0m\u001b[0;34m=\u001b[0m\u001b[0mreport_delay\u001b[0m\u001b[0;34m,\u001b[0m\u001b[0;34m\u001b[0m\u001b[0;34m\u001b[0m\u001b[0m\n\u001b[0;32m-> 1073\u001b[0;31m                     callbacks=callbacks, **kwargs)\n\u001b[0m\u001b[1;32m   1074\u001b[0m             \u001b[0;32melse\u001b[0m\u001b[0;34m:\u001b[0m\u001b[0;34m\u001b[0m\u001b[0;34m\u001b[0m\u001b[0m\n\u001b[1;32m   1075\u001b[0m                 trained_word_count_epoch, raw_word_count_epoch, job_tally_epoch = self._train_epoch_corpusfile(\n",
            "\u001b[0;32m/usr/local/lib/python3.7/dist-packages/gensim/models/word2vec.py\u001b[0m in \u001b[0;36m_train_epoch\u001b[0;34m(self, data_iterable, cur_epoch, total_examples, total_words, queue_factor, report_delay, callbacks)\u001b[0m\n\u001b[1;32m   1431\u001b[0m         trained_word_count, raw_word_count, job_tally = self._log_epoch_progress(\n\u001b[1;32m   1432\u001b[0m             \u001b[0mprogress_queue\u001b[0m\u001b[0;34m,\u001b[0m \u001b[0mjob_queue\u001b[0m\u001b[0;34m,\u001b[0m \u001b[0mcur_epoch\u001b[0m\u001b[0;34m=\u001b[0m\u001b[0mcur_epoch\u001b[0m\u001b[0;34m,\u001b[0m \u001b[0mtotal_examples\u001b[0m\u001b[0;34m=\u001b[0m\u001b[0mtotal_examples\u001b[0m\u001b[0;34m,\u001b[0m\u001b[0;34m\u001b[0m\u001b[0;34m\u001b[0m\u001b[0m\n\u001b[0;32m-> 1433\u001b[0;31m             \u001b[0mtotal_words\u001b[0m\u001b[0;34m=\u001b[0m\u001b[0mtotal_words\u001b[0m\u001b[0;34m,\u001b[0m \u001b[0mreport_delay\u001b[0m\u001b[0;34m=\u001b[0m\u001b[0mreport_delay\u001b[0m\u001b[0;34m,\u001b[0m \u001b[0mis_corpus_file_mode\u001b[0m\u001b[0;34m=\u001b[0m\u001b[0;32mFalse\u001b[0m\u001b[0;34m,\u001b[0m\u001b[0;34m\u001b[0m\u001b[0;34m\u001b[0m\u001b[0m\n\u001b[0m\u001b[1;32m   1434\u001b[0m         )\n\u001b[1;32m   1435\u001b[0m \u001b[0;34m\u001b[0m\u001b[0m\n",
            "\u001b[0;32m/usr/local/lib/python3.7/dist-packages/gensim/models/word2vec.py\u001b[0m in \u001b[0;36m_log_epoch_progress\u001b[0;34m(self, progress_queue, job_queue, cur_epoch, total_examples, total_words, report_delay, is_corpus_file_mode)\u001b[0m\n\u001b[1;32m   1284\u001b[0m \u001b[0;34m\u001b[0m\u001b[0m\n\u001b[1;32m   1285\u001b[0m         \u001b[0;32mwhile\u001b[0m \u001b[0munfinished_worker_count\u001b[0m \u001b[0;34m>\u001b[0m \u001b[0;36m0\u001b[0m\u001b[0;34m:\u001b[0m\u001b[0;34m\u001b[0m\u001b[0;34m\u001b[0m\u001b[0m\n\u001b[0;32m-> 1286\u001b[0;31m             \u001b[0mreport\u001b[0m \u001b[0;34m=\u001b[0m \u001b[0mprogress_queue\u001b[0m\u001b[0;34m.\u001b[0m\u001b[0mget\u001b[0m\u001b[0;34m(\u001b[0m\u001b[0;34m)\u001b[0m  \u001b[0;31m# blocks if workers too slow\u001b[0m\u001b[0;34m\u001b[0m\u001b[0;34m\u001b[0m\u001b[0m\n\u001b[0m\u001b[1;32m   1287\u001b[0m             \u001b[0;32mif\u001b[0m \u001b[0mreport\u001b[0m \u001b[0;32mis\u001b[0m \u001b[0;32mNone\u001b[0m\u001b[0;34m:\u001b[0m  \u001b[0;31m# a thread reporting that it finished\u001b[0m\u001b[0;34m\u001b[0m\u001b[0;34m\u001b[0m\u001b[0m\n\u001b[1;32m   1288\u001b[0m                 \u001b[0munfinished_worker_count\u001b[0m \u001b[0;34m-=\u001b[0m \u001b[0;36m1\u001b[0m\u001b[0;34m\u001b[0m\u001b[0;34m\u001b[0m\u001b[0m\n",
            "\u001b[0;32m/usr/lib/python3.7/queue.py\u001b[0m in \u001b[0;36mget\u001b[0;34m(self, block, timeout)\u001b[0m\n\u001b[1;32m    168\u001b[0m             \u001b[0;32melif\u001b[0m \u001b[0mtimeout\u001b[0m \u001b[0;32mis\u001b[0m \u001b[0;32mNone\u001b[0m\u001b[0;34m:\u001b[0m\u001b[0;34m\u001b[0m\u001b[0;34m\u001b[0m\u001b[0m\n\u001b[1;32m    169\u001b[0m                 \u001b[0;32mwhile\u001b[0m \u001b[0;32mnot\u001b[0m \u001b[0mself\u001b[0m\u001b[0;34m.\u001b[0m\u001b[0m_qsize\u001b[0m\u001b[0;34m(\u001b[0m\u001b[0;34m)\u001b[0m\u001b[0;34m:\u001b[0m\u001b[0;34m\u001b[0m\u001b[0;34m\u001b[0m\u001b[0m\n\u001b[0;32m--> 170\u001b[0;31m                     \u001b[0mself\u001b[0m\u001b[0;34m.\u001b[0m\u001b[0mnot_empty\u001b[0m\u001b[0;34m.\u001b[0m\u001b[0mwait\u001b[0m\u001b[0;34m(\u001b[0m\u001b[0;34m)\u001b[0m\u001b[0;34m\u001b[0m\u001b[0;34m\u001b[0m\u001b[0m\n\u001b[0m\u001b[1;32m    171\u001b[0m             \u001b[0;32melif\u001b[0m \u001b[0mtimeout\u001b[0m \u001b[0;34m<\u001b[0m \u001b[0;36m0\u001b[0m\u001b[0;34m:\u001b[0m\u001b[0;34m\u001b[0m\u001b[0;34m\u001b[0m\u001b[0m\n\u001b[1;32m    172\u001b[0m                 \u001b[0;32mraise\u001b[0m \u001b[0mValueError\u001b[0m\u001b[0;34m(\u001b[0m\u001b[0;34m\"'timeout' must be a non-negative number\"\u001b[0m\u001b[0;34m)\u001b[0m\u001b[0;34m\u001b[0m\u001b[0;34m\u001b[0m\u001b[0m\n",
            "\u001b[0;32m/usr/lib/python3.7/threading.py\u001b[0m in \u001b[0;36mwait\u001b[0;34m(self, timeout)\u001b[0m\n\u001b[1;32m    294\u001b[0m         \u001b[0;32mtry\u001b[0m\u001b[0;34m:\u001b[0m    \u001b[0;31m# restore state no matter what (e.g., KeyboardInterrupt)\u001b[0m\u001b[0;34m\u001b[0m\u001b[0;34m\u001b[0m\u001b[0m\n\u001b[1;32m    295\u001b[0m             \u001b[0;32mif\u001b[0m \u001b[0mtimeout\u001b[0m \u001b[0;32mis\u001b[0m \u001b[0;32mNone\u001b[0m\u001b[0;34m:\u001b[0m\u001b[0;34m\u001b[0m\u001b[0;34m\u001b[0m\u001b[0m\n\u001b[0;32m--> 296\u001b[0;31m                 \u001b[0mwaiter\u001b[0m\u001b[0;34m.\u001b[0m\u001b[0macquire\u001b[0m\u001b[0;34m(\u001b[0m\u001b[0;34m)\u001b[0m\u001b[0;34m\u001b[0m\u001b[0;34m\u001b[0m\u001b[0m\n\u001b[0m\u001b[1;32m    297\u001b[0m                 \u001b[0mgotit\u001b[0m \u001b[0;34m=\u001b[0m \u001b[0;32mTrue\u001b[0m\u001b[0;34m\u001b[0m\u001b[0;34m\u001b[0m\u001b[0m\n\u001b[1;32m    298\u001b[0m             \u001b[0;32melse\u001b[0m\u001b[0;34m:\u001b[0m\u001b[0;34m\u001b[0m\u001b[0;34m\u001b[0m\u001b[0m\n",
            "\u001b[0;31mKeyboardInterrupt\u001b[0m: "
          ]
        }
      ],
      "source": [
        "model_pre_trained.train(alldocs, total_examples=model.corpus_count, epochs=100)"
      ]
    },
    {
      "cell_type": "markdown",
      "metadata": {
        "_cell_guid": "62b8fc44-1a94-4608-9b88-0de6b66d3be4",
        "_uuid": "f8aadd752db5259e3ee00c4127c5be07148a0453",
        "collapsed": true,
        "id": "W3a3jIP1ceuY"
      },
      "source": [
        "## <a id=\"tfidf\"></a>Creating the TF-IDF model\n",
        "\n",
        "We create the TF-IDF model from the list alldocs with the module TfidfModel from gensim.\n",
        "\n",
        "\n",
        "Full documentation can be found here :\n",
        "<li> gensim : https://radimrehurek.com/gensim/ </li>\n",
        "<li> Tf-Idf : https://radimrehurek.com/gensim/models/tfidfmodel.html </li>"
      ]
    },
    {
      "cell_type": "code",
      "execution_count": 42,
      "metadata": {
        "_cell_guid": "052ac363-a61e-4995-842e-1de38251c922",
        "_uuid": "36fffa7369a33971f577610fbe19dab4e12fc495",
        "collapsed": true,
        "id": "hcOTrt4IceuY"
      },
      "outputs": [],
      "source": [
        "from gensim.models import TfidfModel\n",
        "from gensim.corpora import Dictionary\n",
        "from gensim import similarities \n",
        "\n",
        "dct = Dictionary(doc.words for doc in alldocs)  # fit dictionary\n",
        "corpus = [dct.doc2bow(line.words) for line in alldocs]  # convert dataset to BoW format\n",
        "model_tfidf = TfidfModel(corpus)  # fit model"
      ]
    },
    {
      "cell_type": "code",
      "execution_count": 43,
      "metadata": {
        "id": "NXJCSq91ceuY",
        "outputId": "d6f995a3-b6d4-4131-f908-6a5a890ef6de",
        "colab": {
          "base_uri": "https://localhost:8080/"
        }
      },
      "outputs": [
        {
          "output_type": "stream",
          "name": "stdout",
          "text": [
            "Document  0  :  Led by Woody, Andy's toys live happily in his room until Andy's birthday brings Buzz Lightyear onto the scene. Afraid of losing his place in Andy's heart, Woody plots against Buzz. But when circumstances separate Buzz and Woody from their owner, the duo eventually learns to put aside their differences.\n",
            "Bag of words representation of document  0  :  [(0, 1), (1, 1), (2, 1), (3, 3), (4, 1), (5, 1), (6, 1), (7, 1), (8, 3), (9, 1), (10, 1), (11, 1), (12, 1), (13, 1), (14, 1), (15, 1), (16, 1), (17, 2), (18, 2), (19, 1), (20, 1), (21, 1), (22, 1), (23, 1), (24, 1), (25, 1), (26, 1), (27, 1), (28, 1), (29, 1), (30, 1), (31, 1), (32, 1), (33, 2), (34, 2), (35, 1), (36, 1), (37, 1), (38, 1), (39, 3)]\n"
          ]
        }
      ],
      "source": [
        "# for example \n",
        " \n",
        "index = 0\n",
        "print(\"Document \",index, \" : \", data[alldocs[index].original_number] ) \n",
        "print(\"Bag of words representation of document \", index, \" : \", corpus[index])"
      ]
    },
    {
      "cell_type": "markdown",
      "metadata": {
        "id": "ofZU1GeqceuZ"
      },
      "source": [
        "## Creating Similarity matrix between a list of key words and all the documents\n",
        "\n",
        "We create a matrix similarity thet represents the similarity between the list of key words and the documents."
      ]
    },
    {
      "cell_type": "code",
      "execution_count": 44,
      "metadata": {
        "_cell_guid": "3887f564-f139-4edb-a38f-74e7a5c70490",
        "_uuid": "2e25899e5994ad9580355b03888a1a093256bfc5",
        "collapsed": true,
        "id": "9OGCfmguceuZ"
      },
      "outputs": [],
      "source": [
        "#Create similarity matrix between doc and tokens\n",
        "tokens = \"insurance\".split()\n",
        "index = similarities.MatrixSimilarity([dct.doc2bow(tokens)],num_features=len(dct))"
      ]
    },
    {
      "cell_type": "markdown",
      "metadata": {
        "id": "F1NrbL_lceuZ"
      },
      "source": [
        "We just use the document with the higher score of similarity."
      ]
    },
    {
      "cell_type": "code",
      "execution_count": 45,
      "metadata": {
        "_cell_guid": "ff1d9477-926f-4fcd-98d8-e1acbaf586f6",
        "_uuid": "7bb787ed8102a74835e7b80274f1aff8ad136408",
        "id": "upLm9nFdceuZ",
        "outputId": "d9d8ad64-312e-4b40-d62b-f897e6cca95c",
        "colab": {
          "base_uri": "https://localhost:8080/"
        }
      },
      "outputs": [
        {
          "output_type": "stream",
          "name": "stdout",
          "text": [
            "A lawyer becomes a fisherman from frustration. When his one piece of property, his boat, is struck by lightning and destroyed he is denied insurance money because it was “an act of God”. He re-registers as a lawyer and sues the insurance company and, as God’s representative, The Church.\n",
            "(19251, 0.8786457777023315)\n",
            "The Man Who Sued God\n"
          ]
        }
      ],
      "source": [
        "similarity=np.zeros((len(alldocs)))\n",
        "maxsim = 0\n",
        "for id, doc in enumerate(alldocs):\n",
        "    similarity[id] = index[dct.doc2bow(doc.words)]\n",
        "    \n",
        "docsim= alldocs[np.argmax(similarity)] \n",
        "print(data[docsim.original_number])\n",
        "print(tagsim)\n",
        "print(docsim.title)"
      ]
    },
    {
      "cell_type": "markdown",
      "metadata": {
        "collapsed": true,
        "id": "mYFCS4_RceuZ"
      },
      "source": [
        "The output is coherent with the input as there is the word **love** 3 times in the document.\n",
        "\n",
        "# Conclusion \n",
        "\n",
        "There are a lot of differences between the Doc2Vec search engine and the TF-IDF search engine. The TF-IDF model look only for the words listed in the key words that matches with the words in the document. This model is performing only if you look for documents that matches exactly the list of key words. But this model do not take into account the meaning of the words and the semantic proximity that can exist between 2 words. That is what is trying to achieve the Doc2Vec model. The goal is to create a model that represents meaning similarity between words and documents. The downside is that the model is more complex to create and depends on the data that is given and the tuning of hyper-parameters."
      ]
    }
  ],
  "metadata": {
    "kernelspec": {
      "display_name": "Python 3",
      "language": "python",
      "name": "python3"
    },
    "language_info": {
      "codemirror_mode": {
        "name": "ipython",
        "version": 3
      },
      "file_extension": ".py",
      "mimetype": "text/x-python",
      "name": "python",
      "nbconvert_exporter": "python",
      "pygments_lexer": "ipython3",
      "version": "3.6.1"
    },
    "colab": {
      "name": "Doc2Vec.ipynb",
      "provenance": [],
      "collapsed_sections": [],
      "include_colab_link": true
    }
  },
  "nbformat": 4,
  "nbformat_minor": 0
}